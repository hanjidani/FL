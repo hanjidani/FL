{
  "cells": [
    {
      "cell_type": "markdown",
      "metadata": {
        "id": "view-in-github",
        "colab_type": "text"
      },
      "source": [
        "<a href=\"https://colab.research.google.com/github/hanjidani/FL/blob/main/FederatedLearning.ipynb\" target=\"_parent\"><img src=\"https://colab.research.google.com/assets/colab-badge.svg\" alt=\"Open In Colab\"/></a>"
      ]
    },
    {
      "cell_type": "markdown",
      "metadata": {
        "id": "AAmDgBA3iRDZ"
      },
      "source": [
        "# Different federated method to achive global model from base nodes\n",
        "## Dr. Mojahedian\n",
        "### Hossein Anjidani & S Yahya Tehrani"
      ]
    },
    {
      "cell_type": "markdown",
      "metadata": {
        "id": "urmnHNxPipKZ"
      },
      "source": [
        "# Model Definition"
      ]
    },
    {
      "cell_type": "code",
      "execution_count": null,
      "metadata": {
        "id": "_pv2gAyQBL12"
      },
      "outputs": [],
      "source": [
        "import torch\n",
        "import torch.nn as nn\n",
        "import torch.optim as optim\n",
        "from torchvision import datasets, transforms\n",
        "from torch.utils.data import DataLoader, random_split, Subset\n",
        "\n",
        "# Define a simple CNN model for MNIST\n",
        "class SimpleCNN(nn.Module):\n",
        "    def __init__(self):\n",
        "        super(SimpleCNN, self).__init__()\n",
        "        self.conv1 = nn.Conv2d(1, 32, kernel_size=3, stride=1, padding=1)\n",
        "        self.conv2 = nn.Conv2d(32, 64, kernel_size=3, stride=1, padding=1)\n",
        "        self.fc1 = nn.Linear(64 * 7 * 7, 128)\n",
        "        self.fc2 = nn.Linear(128, 10)\n",
        "\n",
        "    def forward(self, x):\n",
        "        x = torch.relu(self.conv1(x))\n",
        "        x = torch.max_pool2d(x, 2)\n",
        "        x = torch.relu(self.conv2(x))\n",
        "        x = torch.max_pool2d(x, 2)\n",
        "        x = x.view(-1, 64 * 7 * 7)\n",
        "        x = torch.relu(self.fc1(x))\n",
        "        x = self.fc2(x)\n",
        "        return x\n",
        "# Define a function to train a model on local data\n",
        "def train_local_model(model, data_loader, epochs, lr):\n",
        "    criterion = nn.CrossEntropyLoss()\n",
        "    optimizer = optim.SGD(model.parameters(), lr=lr)\n",
        "    model.train()\n",
        "    for _ in range(epochs):\n",
        "        for inputs, targets in data_loader:\n",
        "            optimizer.zero_grad()\n",
        "            outputs = model(inputs)\n",
        "            loss = criterion(outputs, targets)\n",
        "            loss.backward()\n",
        "            optimizer.step()\n",
        "    return model.state_dict()\n",
        "\n",
        "# Define a function to evaluate the global model\n",
        "def evaluate_model(model, test_loader):\n",
        "    criterion = nn.CrossEntropyLoss()\n",
        "    model.eval()\n",
        "    correct = 0\n",
        "    total = 0\n",
        "    test_loss = 0.0\n",
        "    with torch.no_grad():\n",
        "        for inputs, targets in test_loader:\n",
        "            outputs = model(inputs)\n",
        "            loss = criterion(outputs, targets)\n",
        "            test_loss += loss.item()\n",
        "            _, predicted = torch.max(outputs.data, 1)\n",
        "            total += targets.size(0)\n",
        "            correct += (predicted == targets).sum().item()\n",
        "\n",
        "    accuracy = 100 * correct / total\n",
        "    avg_loss = test_loss / len(test_loader)\n",
        "    return accuracy, avg_loss\n",
        "# Load and preprocess the MNIST dataset\n",
        "def load_mnist_data(num_agents):\n",
        "    transform = transforms.Compose([\n",
        "        transforms.ToTensor(),\n",
        "        transforms.Normalize((0.1307,), (0.3081,))\n",
        "    ])\n",
        "\n",
        "    mnist_train = datasets.MNIST('.', train=True, download=True, transform=transform)\n",
        "    mnist_test = datasets.MNIST('.', train=False, download=True, transform=transform)\n",
        "\n",
        "    # Split the dataset among agents\n",
        "    data_len = len(mnist_train) // num_agents\n",
        "    data_loaders = []\n",
        "    for i in range(num_agents):\n",
        "        indices = list(range(i * data_len, (i + 1) * data_len))\n",
        "        subset = Subset(mnist_train, indices)\n",
        "        data_loader = DataLoader(subset, batch_size=32, shuffle=True)\n",
        "        data_loaders.append(data_loader)\n",
        "\n",
        "    # Create a test data loader\n",
        "    test_loader = DataLoader(mnist_test, batch_size=1000, shuffle=False)\n",
        "\n",
        "    return data_loaders, test_loader"
      ]
    },
    {
      "cell_type": "code",
      "source": [],
      "metadata": {
        "id": "cRkRxlIZqWjL"
      },
      "execution_count": null,
      "outputs": []
    },
    {
      "cell_type": "markdown",
      "metadata": {
        "id": "6tTrhFlEi-LM"
      },
      "source": [
        "# FedAVG"
      ]
    },
    {
      "cell_type": "code",
      "execution_count": null,
      "metadata": {
        "id": "Tw5YMBZBjHzp"
      },
      "outputs": [],
      "source": [
        "# Simulate the federated learning process\n",
        "def federated_averaging(global_model, data_loaders, test_loader, epochs, lr, rounds):\n",
        "    num_agents = len(data_loaders)\n",
        "    for round in range(rounds):\n",
        "        local_models = []\n",
        "        for i in range(num_agents):\n",
        "            local_model = SimpleCNN()\n",
        "            local_model.load_state_dict(global_model.state_dict())\n",
        "            local_state_dict = train_local_model(local_model, data_loaders[i], epochs, lr)\n",
        "            local_models.append(local_state_dict)\n",
        "\n",
        "        global_state_dict = global_model.state_dict()\n",
        "        for key in global_state_dict.keys():\n",
        "            global_state_dict[key] = sum(local_model[key] for local_model in local_models) / num_agents\n",
        "\n",
        "        global_model.load_state_dict(global_state_dict)\n",
        "\n",
        "        # Evaluate the global model on the test set\n",
        "        accuracy, avg_loss = evaluate_model(global_model, test_loader)\n",
        "        print(f\"Round {round + 1}/{rounds} - Accuracy: {accuracy:.2f}%, Loss: {avg_loss:.4f}\")\n",
        "\n",
        "    return global_model"
      ]
    },
    {
      "cell_type": "code",
      "execution_count": null,
      "metadata": {
        "colab": {
          "base_uri": "https://localhost:8080/"
        },
        "id": "KpSi0FSKnXmd",
        "outputId": "75f4b183-827e-449d-c83f-22a05c3a7636"
      },
      "outputs": [
        {
          "name": "stdout",
          "output_type": "stream",
          "text": [
            "Round 1/10 - Accuracy: 91.35%, Loss: 0.3107\n",
            "Round 2/10 - Accuracy: 94.35%, Loss: 0.1946\n",
            "Round 3/10 - Accuracy: 95.72%, Loss: 0.1426\n",
            "Round 4/10 - Accuracy: 96.57%, Loss: 0.1153\n",
            "Round 5/10 - Accuracy: 97.05%, Loss: 0.0970\n",
            "Round 6/10 - Accuracy: 97.30%, Loss: 0.0848\n",
            "Round 7/10 - Accuracy: 97.48%, Loss: 0.0775\n",
            "Round 8/10 - Accuracy: 97.70%, Loss: 0.0711\n",
            "Round 9/10 - Accuracy: 97.95%, Loss: 0.0655\n",
            "Round 10/10 - Accuracy: 98.07%, Loss: 0.0605\n"
          ]
        }
      ],
      "source": [
        "# Initialize the global model\n",
        "global_model = SimpleCNN()\n",
        "\n",
        "# Set parameters\n",
        "epochs = 1\n",
        "lr = 0.01\n",
        "rounds = 10\n",
        "num_agents = 5\n",
        "\n",
        "# Load data and create data loaders for each agent\n",
        "data_loaders, test_loader = load_mnist_data(num_agents)\n",
        "\n",
        "# Perform federated averaging\n",
        "global_model = federated_averaging(global_model, data_loaders, test_loader, epochs, lr, rounds)\n",
        "\n",
        "# Save the final global model\n",
        "torch.save(global_model.state_dict(), \"fedavg_mnist_model.pth\")"
      ]
    },
    {
      "cell_type": "markdown",
      "metadata": {
        "id": "-R-V8sRG1F_P"
      },
      "source": [
        "# Scaffold"
      ]
    },
    {
      "cell_type": "code",
      "execution_count": null,
      "metadata": {
        "id": "PAnqrD2K0gFw"
      },
      "outputs": [],
      "source": [
        "\n",
        "import numpy as np\n",
        "# Define a function to train a model on local data\n",
        "def train_local_model(model, data_loader, epochs, lr, c_local, c_global):\n",
        "    criterion = nn.CrossEntropyLoss()\n",
        "    optimizer = optim.SGD(model.parameters(), lr=lr)\n",
        "    model.train()\n",
        "    for _ in range(epochs):\n",
        "        for inputs, targets in data_loader:\n",
        "            optimizer.zero_grad()\n",
        "            outputs = model(inputs)\n",
        "            loss = criterion(outputs, targets)\n",
        "            loss.backward()\n",
        "\n",
        "            # Adjust gradients using control variates\n",
        "            with torch.no_grad():\n",
        "                for param, c_l, c_g in zip(model.parameters(), c_local, c_global):\n",
        "                    param.grad = param.grad - c_l + c_g\n",
        "\n",
        "            optimizer.step()\n",
        "    return model.state_dict()\n",
        "\n",
        "def scaffold(global_model, data_loaders, test_loader, epochs, lr, rounds):\n",
        "    num_agents = len(data_loaders)\n",
        "    global_control_variate = [torch.zeros_like(param) for param in global_model.parameters()]\n",
        "    local_control_variates = [[torch.zeros_like(param) for param in global_model.parameters()] for _ in range(num_agents)]\n",
        "\n",
        "    for round in range(rounds):\n",
        "        local_models = []\n",
        "        for i in range(num_agents):\n",
        "            local_model = SimpleCNN()\n",
        "            local_model.load_state_dict(global_model.state_dict())\n",
        "            local_state_dict = train_local_model(local_model, data_loaders[i], epochs, lr, local_control_variates[i], global_control_variate)\n",
        "            local_models.append(local_state_dict)\n",
        "\n",
        "            # Update local control variates\n",
        "            for local_cv, param, global_cv in zip(local_control_variates[i], local_model.parameters(), global_control_variate):\n",
        "                if param.grad is not None:  # Ensure that the gradient exists\n",
        "                    local_cv += param.grad - global_cv\n",
        "\n",
        "        # Update global model parameters\n",
        "        global_state_dict = global_model.state_dict()\n",
        "        for key in global_state_dict.keys():\n",
        "            global_state_dict[key] = sum(local_model[key] for local_model in local_models) / num_agents\n",
        "\n",
        "        global_model.load_state_dict(global_state_dict)\n",
        "\n",
        "        # Update global control variates\n",
        "        for global_cv, param in zip(global_control_variate, global_model.parameters()):\n",
        "            if param.grad is not None:  # Ensure that the gradient exists\n",
        "                global_cv += sum(local_model[key] for local_model in local_models) / num_agents - param.grad\n",
        "\n",
        "        # Evaluate the global model on the test set\n",
        "        accuracy, avg_loss = evaluate_model(global_model, test_loader)\n",
        "        print(f\"Round {round + 1}/{rounds} - Accuracy: {accuracy:.2f}%, Loss: {avg_loss:.4f}\")\n",
        "\n",
        "    return global_model"
      ]
    },
    {
      "cell_type": "code",
      "execution_count": null,
      "metadata": {
        "colab": {
          "background_save": true,
          "base_uri": "https://localhost:8080/"
        },
        "id": "VOv82PTt1u8D",
        "outputId": "b08b360c-8828-4e82-8ac1-9eb030b8013b"
      },
      "outputs": [
        {
          "name": "stdout",
          "output_type": "stream",
          "text": [
            "Round 1/10 - Accuracy: 91.22%, Loss: 0.3286\n",
            "Round 2/10 - Accuracy: 10.15%, Loss: 5.2164\n",
            "Round 3/10 - Accuracy: 10.09%, Loss: 229.3089\n",
            "Round 4/10 - Accuracy: 9.74%, Loss: 72.1614\n",
            "Round 5/10 - Accuracy: 12.98%, Loss: 5.8577\n",
            "Round 6/10 - Accuracy: 31.63%, Loss: 4.1285\n",
            "Round 7/10 - Accuracy: 10.10%, Loss: 3.1709\n",
            "Round 8/10 - Accuracy: 11.32%, Loss: 4.6196\n",
            "Round 9/10 - Accuracy: 10.54%, Loss: 15.8356\n",
            "Round 10/10 - Accuracy: 9.25%, Loss: 8.4898\n"
          ]
        }
      ],
      "source": [
        "# Initialize the global model\n",
        "global_model = SimpleCNN()\n",
        "\n",
        "# Set parameters\n",
        "epochs = 1\n",
        "lr = 0.01\n",
        "rounds = 10\n",
        "num_agents = 5\n",
        "\n",
        "# Load data and create data loaders for each agent\n",
        "data_loaders, test_loader = load_mnist_data(num_agents)\n",
        "\n",
        "# Perform SCAFFOLD federated learning\n",
        "global_model = scaffold(global_model, data_loaders, test_loader, epochs, lr, rounds)\n",
        "\n",
        "# Save the final global model\n",
        "torch.save(global_model.state_dict(), \"scaffold_mnist_model.pth\")"
      ]
    }
  ],
  "metadata": {
    "colab": {
      "provenance": [],
      "authorship_tag": "ABX9TyPPIQH12M6LB7TeTpPrayk/",
      "include_colab_link": true
    },
    "kernelspec": {
      "display_name": "Python 3",
      "name": "python3"
    },
    "language_info": {
      "name": "python"
    }
  },
  "nbformat": 4,
  "nbformat_minor": 0
}